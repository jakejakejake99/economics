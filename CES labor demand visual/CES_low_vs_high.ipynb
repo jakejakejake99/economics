{
  "nbformat": 4,
  "nbformat_minor": 0,
  "metadata": {
    "colab": {
      "provenance": []
    },
    "kernelspec": {
      "name": "python3",
      "display_name": "Python 3"
    },
    "language_info": {
      "name": "python"
    }
  },
  "cells": [
    {
      "cell_type": "code",
      "execution_count": null,
      "metadata": {
        "id": "t_4SDGjFo2YI"
      },
      "outputs": [],
      "source": [
        "import numpy as np\n",
        "import matplotlib.pyplot as plt\n",
        "import ipywidgets as widgets\n",
        "from IPython.display import display, Math\n",
        "\n",
        "# Function to compute H/L\n",
        "def relative_demand(delta, rho, w_H, w_L, phi):\n",
        "    term1 = (delta / (1 - delta)) ** (1 / (1 - rho))\n",
        "    term2 = (w_L * phi**rho / w_H) ** (1 / (1 - rho))\n",
        "    return term1 * term2\n",
        "\n",
        "# Function to update the display\n",
        "def update_visuals(delta, rho, w_H, w_L, phi):\n",
        "    # Compute relative demand value\n",
        "    H_L_value = relative_demand(delta, rho, w_H, w_L, phi)\n",
        "\n",
        "    # LaTeX formatted equation\n",
        "    equation = r\"\\frac{H}{L} = \\left( \\frac{\" + f\"{delta}\" + r\"}{\" + f\"{1 - delta}\" + r\"} \\right)^{\\frac{1}{1 - \" + f\"{rho}\" + r\"}} \\cdot \\left( \\frac{\" + f\"{w_L} \\cdot {phi}^{rho}\" + r\"}{\" + f\"{w_H}\" + r\"} \\right)^{\\frac{1}{1 - \" + f\"{rho}\" + r\"}}\"\n",
        "\n",
        "    # Display the equation and computed value\n",
        "    display(Math(equation))\n",
        "    display(Math(r\"\\frac{H}{L} \\approx \" + f\"{H_L_value:.4f}\"))  # Show computed H/L value\n",
        "\n",
        "    # Generate graph of H/L as a function of delta\n",
        "    delta_values = np.linspace(0.01, 0.99, 100)  # Avoid divide by zero\n",
        "    H_L_values = [relative_demand(d, rho, w_H, w_L, phi) for d in delta_values]\n",
        "\n",
        "    # Set a fixed y-axis range for better visualization\n",
        "    min_y = min(H_L_values) * 0.9  # 10% margin below minimum value\n",
        "    max_y = max(H_L_values) * 1.1  # 10% margin above maximum value\n",
        "\n",
        "    # Plot H/L vs delta\n",
        "    plt.figure(figsize=(8, 5))\n",
        "    plt.plot(delta_values, H_L_values, label=r\"$H/L$ as a function of $\\delta$\", color='blue')\n",
        "    plt.axvline(delta, color='red', linestyle='--', label=f\"Current δ={delta}\")\n",
        "    plt.scatter([delta], [H_L_value], color='red', zorder=3, label=f\"Equilibrium (δ={delta}, H/L={H_L_value:.4f})\")\n",
        "    plt.xlabel(r\"$\\delta$ (Relative importance of high-skilled labor)\")\n",
        "    plt.ylabel(r\"$H/L$ (Relative demand for high-skilled vs low-skilled labor)\")\n",
        "    plt.title(\"Effect of δ on Relative Demand (H/L)\")\n",
        "    plt.ylim(min_y, max_y)  # Keep the y-axis scale stable\n",
        "    plt.xlim(0.01, 0.99)  # Keep x-axis fixed\n",
        "    plt.legend()\n",
        "    plt.grid()\n",
        "    plt.show()\n",
        "\n",
        "# Create interactive sliders\n",
        "delta_slider = widgets.FloatSlider(min=0.01, max=0.99, step=0.01, value=0.5, description=\"δ\")\n",
        "rho_slider = widgets.FloatSlider(min=-2, max=0.99, step=0.1, value=-0.5, description=\"ρ\")\n",
        "w_H_slider = widgets.FloatSlider(min=0.1, max=5, step=0.1, value=1.0, description=\"w_H\")\n",
        "w_L_slider = widgets.FloatSlider(min=0.1, max=5, step=0.1, value=1.0, description=\"w_L\")\n",
        "phi_slider = widgets.FloatSlider(min=0.1, max=5, step=0.1, value=1.0, description=\"φ\")\n",
        "\n",
        "# Create an interactive display\n",
        "interactive_visual = widgets.interactive(update_visuals,\n",
        "                                         delta=delta_slider,\n",
        "                                         rho=rho_slider,\n",
        "                                         w_H=w_H_slider,\n",
        "                                         w_L=w_L_slider,\n",
        "                                         phi=phi_slider)\n",
        "\n",
        "# Display the interactive widget\n",
        "display(interactive_visual)"
      ]
    }
  ]
}